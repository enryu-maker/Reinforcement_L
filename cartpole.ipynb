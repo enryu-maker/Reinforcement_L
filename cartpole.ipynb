{
  "cells": [
    {
      "cell_type": "code",
      "execution_count": 2,
      "metadata": {
        "id": "7yJK3Qc5UGH4"
      },
      "outputs": [],
      "source": [
        "import gym\n",
        "import random"
      ]
    },
    {
      "cell_type": "code",
      "execution_count": 3,
      "metadata": {
        "id": "G4yNmkWBUkzu"
      },
      "outputs": [],
      "source": [
        "env = gym.make('CartPole-v0')\n",
        "states = env.observation_space.shape[0]\n",
        "actions = env.action_space.n"
      ]
    },
    {
      "cell_type": "code",
      "execution_count": 4,
      "metadata": {
        "colab": {
          "base_uri": "https://localhost:8080/",
          "height": 389
        },
        "id": "bF_xbERzU-68",
        "outputId": "9d7a02cc-0a13-469c-e53a-b229c3724e47"
      },
      "outputs": [],
      "source": [
        "# episodes = 10\n",
        "# for episode in range (1,episodes+1):\n",
        "#   state = env.reset()\n",
        "#   done = False\n",
        "#   score =0\n",
        "\n",
        "#   while not done:\n",
        "#     env.render()\n",
        "#     action = random.choices([0,1])\n",
        "#     n_state, reward, done, info = env.step(action[0])\n",
        "#     score+=reward\n",
        "#     if episode==10:\n",
        "#       done=True\n",
        "#   print('Episode:{} Score:{}'.format(episode,score))\n"
      ]
    },
    {
      "cell_type": "code",
      "execution_count": 12,
      "metadata": {},
      "outputs": [],
      "source": [
        "import numpy as np\n",
        "from tensorflow.keras.models import Sequential\n",
        "from tensorflow.keras.layers import Dense, Flatten\n",
        "from tensorflow.keras.optimizers import Adam\n"
      ]
    },
    {
      "cell_type": "code",
      "execution_count": 13,
      "metadata": {},
      "outputs": [],
      "source": [
        "def build_model(states, actions):\n",
        "    model = Sequential()\n",
        "    model.add(Flatten(input_shape=(1,states)))\n",
        "    model.add(Dense(24,activation='relu'))\n",
        "    model.add(Dense(24,activation='relu'))\n",
        "    model.add(Dense(actions,activation='linear'))\n",
        "    return model"
      ]
    },
    {
      "cell_type": "code",
      "execution_count": 14,
      "metadata": {},
      "outputs": [],
      "source": [
        "model = build_model(states, actions)"
      ]
    },
    {
      "cell_type": "code",
      "execution_count": 15,
      "metadata": {},
      "outputs": [
        {
          "name": "stdout",
          "output_type": "stream",
          "text": [
            "Model: \"sequential_1\"\n",
            "_________________________________________________________________\n",
            " Layer (type)                Output Shape              Param #   \n",
            "=================================================================\n",
            " flatten_1 (Flatten)         (None, 4)                 0         \n",
            "                                                                 \n",
            " dense_3 (Dense)             (None, 24)                120       \n",
            "                                                                 \n",
            " dense_4 (Dense)             (None, 24)                600       \n",
            "                                                                 \n",
            " dense_5 (Dense)             (None, 2)                 50        \n",
            "                                                                 \n",
            "=================================================================\n",
            "Total params: 770\n",
            "Trainable params: 770\n",
            "Non-trainable params: 0\n",
            "_________________________________________________________________\n"
          ]
        }
      ],
      "source": [
        "model.summary()"
      ]
    },
    {
      "cell_type": "code",
      "execution_count": 16,
      "metadata": {},
      "outputs": [],
      "source": [
        "from rl.agents import DQNAgent\n",
        "from rl.policy import BoltzmannQPolicy\n",
        "from rl.memory import SequentialMemory"
      ]
    },
    {
      "cell_type": "code",
      "execution_count": 17,
      "metadata": {},
      "outputs": [],
      "source": [
        "def build_agent(model, actions):\n",
        "    policy = BoltzmannQPolicy()\n",
        "    memory = SequentialMemory(limit=50000, window_length = 1)\n",
        "    dqn = DQNAgent(model=model, memory=memory, policy=policy, \n",
        "    nb_actions = actions, nb_steps_warmup = 10, target_model_update=1e-2)\n",
        "    return dqn"
      ]
    },
    {
      "cell_type": "code",
      "execution_count": 19,
      "metadata": {},
      "outputs": [
        {
          "name": "stdout",
          "output_type": "stream",
          "text": [
            "Training for 50000 steps ...\n",
            "Interval 1 (0 steps performed)\n",
            "10000/10000 [==============================] - 110s 11ms/step - reward: 1.0000\n",
            "53 episodes - episode_reward: 186.642 [39.000, 200.000] - loss: 16.959 - mae: 46.967 - mean_q: 94.591\n",
            "\n",
            "Interval 2 (10000 steps performed)\n",
            "10000/10000 [==============================] - 113s 11ms/step - reward: 1.0000\n",
            "54 episodes - episode_reward: 186.667 [44.000, 200.000] - loss: 17.414 - mae: 43.220 - mean_q: 87.187\n",
            "\n",
            "Interval 3 (20000 steps performed)\n",
            "10000/10000 [==============================] - 116s 12ms/step - reward: 1.0000\n",
            "55 episodes - episode_reward: 181.618 [46.000, 200.000] - loss: 15.382 - mae: 42.053 - mean_q: 85.142\n",
            "\n",
            "Interval 4 (30000 steps performed)\n",
            "10000/10000 [==============================] - 116s 12ms/step - reward: 1.0000\n",
            "50 episodes - episode_reward: 199.040 [152.000, 200.000] - loss: 21.894 - mae: 47.374 - mean_q: 95.767\n",
            "\n",
            "Interval 5 (40000 steps performed)\n",
            "10000/10000 [==============================] - 116s 12ms/step - reward: 1.0000\n",
            "done, took 570.295 seconds\n"
          ]
        },
        {
          "data": {
            "text/plain": [
              "<keras.callbacks.History at 0x17d299310>"
            ]
          },
          "execution_count": 19,
          "metadata": {},
          "output_type": "execute_result"
        }
      ],
      "source": [
        "dqn = build_agent(model,actions)\n",
        "dqn.compile(Adam(learning_rate=1e-3),metrics=['mae'])\n",
        "dqn.fit(env, nb_steps=50000, visualize=False, verbose=1)"
      ]
    },
    {
      "cell_type": "code",
      "execution_count": 20,
      "metadata": {},
      "outputs": [
        {
          "name": "stdout",
          "output_type": "stream",
          "text": [
            "Testing for 100 episodes ...\n",
            "Episode 1: reward: 200.000, steps: 200\n",
            "Episode 2: reward: 200.000, steps: 200\n",
            "Episode 3: reward: 200.000, steps: 200\n",
            "Episode 4: reward: 200.000, steps: 200\n",
            "Episode 5: reward: 175.000, steps: 175\n",
            "Episode 6: reward: 125.000, steps: 125\n",
            "Episode 7: reward: 200.000, steps: 200\n",
            "Episode 8: reward: 200.000, steps: 200\n",
            "Episode 9: reward: 200.000, steps: 200\n",
            "Episode 10: reward: 119.000, steps: 119\n",
            "Episode 11: reward: 200.000, steps: 200\n",
            "Episode 12: reward: 200.000, steps: 200\n",
            "Episode 13: reward: 200.000, steps: 200\n",
            "Episode 14: reward: 200.000, steps: 200\n",
            "Episode 15: reward: 200.000, steps: 200\n",
            "Episode 16: reward: 200.000, steps: 200\n",
            "Episode 17: reward: 200.000, steps: 200\n",
            "Episode 18: reward: 200.000, steps: 200\n",
            "Episode 19: reward: 200.000, steps: 200\n",
            "Episode 20: reward: 142.000, steps: 142\n",
            "Episode 21: reward: 200.000, steps: 200\n",
            "Episode 22: reward: 200.000, steps: 200\n",
            "Episode 23: reward: 183.000, steps: 183\n",
            "Episode 24: reward: 191.000, steps: 191\n",
            "Episode 25: reward: 200.000, steps: 200\n",
            "Episode 26: reward: 200.000, steps: 200\n",
            "Episode 27: reward: 200.000, steps: 200\n",
            "Episode 28: reward: 200.000, steps: 200\n",
            "Episode 29: reward: 200.000, steps: 200\n",
            "Episode 30: reward: 200.000, steps: 200\n",
            "Episode 31: reward: 177.000, steps: 177\n",
            "Episode 32: reward: 200.000, steps: 200\n",
            "Episode 33: reward: 200.000, steps: 200\n",
            "Episode 34: reward: 200.000, steps: 200\n",
            "Episode 35: reward: 200.000, steps: 200\n",
            "Episode 36: reward: 200.000, steps: 200\n",
            "Episode 37: reward: 200.000, steps: 200\n",
            "Episode 38: reward: 200.000, steps: 200\n",
            "Episode 39: reward: 200.000, steps: 200\n",
            "Episode 40: reward: 143.000, steps: 143\n",
            "Episode 41: reward: 200.000, steps: 200\n",
            "Episode 42: reward: 200.000, steps: 200\n",
            "Episode 43: reward: 200.000, steps: 200\n",
            "Episode 44: reward: 200.000, steps: 200\n",
            "Episode 45: reward: 200.000, steps: 200\n",
            "Episode 46: reward: 200.000, steps: 200\n",
            "Episode 47: reward: 200.000, steps: 200\n",
            "Episode 48: reward: 157.000, steps: 157\n",
            "Episode 49: reward: 161.000, steps: 161\n",
            "Episode 50: reward: 200.000, steps: 200\n",
            "Episode 51: reward: 200.000, steps: 200\n",
            "Episode 52: reward: 200.000, steps: 200\n",
            "Episode 53: reward: 200.000, steps: 200\n",
            "Episode 54: reward: 200.000, steps: 200\n",
            "Episode 55: reward: 200.000, steps: 200\n",
            "Episode 56: reward: 200.000, steps: 200\n",
            "Episode 57: reward: 200.000, steps: 200\n",
            "Episode 58: reward: 200.000, steps: 200\n",
            "Episode 59: reward: 132.000, steps: 132\n",
            "Episode 60: reward: 200.000, steps: 200\n",
            "Episode 61: reward: 200.000, steps: 200\n",
            "Episode 62: reward: 200.000, steps: 200\n",
            "Episode 63: reward: 200.000, steps: 200\n",
            "Episode 64: reward: 200.000, steps: 200\n",
            "Episode 65: reward: 200.000, steps: 200\n",
            "Episode 66: reward: 125.000, steps: 125\n",
            "Episode 67: reward: 200.000, steps: 200\n",
            "Episode 68: reward: 143.000, steps: 143\n",
            "Episode 69: reward: 200.000, steps: 200\n",
            "Episode 70: reward: 136.000, steps: 136\n",
            "Episode 71: reward: 200.000, steps: 200\n",
            "Episode 72: reward: 200.000, steps: 200\n",
            "Episode 73: reward: 200.000, steps: 200\n",
            "Episode 74: reward: 125.000, steps: 125\n",
            "Episode 75: reward: 200.000, steps: 200\n",
            "Episode 76: reward: 128.000, steps: 128\n",
            "Episode 77: reward: 200.000, steps: 200\n",
            "Episode 78: reward: 200.000, steps: 200\n",
            "Episode 79: reward: 200.000, steps: 200\n",
            "Episode 80: reward: 200.000, steps: 200\n",
            "Episode 81: reward: 200.000, steps: 200\n",
            "Episode 82: reward: 200.000, steps: 200\n",
            "Episode 83: reward: 200.000, steps: 200\n",
            "Episode 84: reward: 159.000, steps: 159\n",
            "Episode 85: reward: 157.000, steps: 157\n",
            "Episode 86: reward: 200.000, steps: 200\n",
            "Episode 87: reward: 200.000, steps: 200\n",
            "Episode 88: reward: 141.000, steps: 141\n",
            "Episode 89: reward: 147.000, steps: 147\n",
            "Episode 90: reward: 200.000, steps: 200\n",
            "Episode 91: reward: 200.000, steps: 200\n",
            "Episode 92: reward: 118.000, steps: 118\n",
            "Episode 93: reward: 200.000, steps: 200\n",
            "Episode 94: reward: 200.000, steps: 200\n",
            "Episode 95: reward: 200.000, steps: 200\n",
            "Episode 96: reward: 131.000, steps: 131\n",
            "Episode 97: reward: 200.000, steps: 200\n",
            "Episode 98: reward: 200.000, steps: 200\n",
            "Episode 99: reward: 200.000, steps: 200\n",
            "Episode 100: reward: 200.000, steps: 200\n",
            "188.15\n"
          ]
        }
      ],
      "source": [
        "scores = dqn.test(env, nb_episodes=100, visualize=False)\n",
        "print(np.mean(scores.history['episode_reward']))"
      ]
    },
    {
      "cell_type": "code",
      "execution_count": 23,
      "metadata": {},
      "outputs": [
        {
          "name": "stdout",
          "output_type": "stream",
          "text": [
            "Testing for 15 episodes ...\n",
            "Episode 1: reward: 200.000, steps: 200\n",
            "Episode 2: reward: 200.000, steps: 200\n",
            "Episode 3: reward: 136.000, steps: 136\n",
            "Episode 4: reward: 200.000, steps: 200\n",
            "Episode 5: reward: 200.000, steps: 200\n",
            "Episode 6: reward: 117.000, steps: 117\n",
            "Episode 7: reward: 200.000, steps: 200\n",
            "Episode 8: reward: 200.000, steps: 200\n",
            "Episode 9: reward: 200.000, steps: 200\n",
            "Episode 10: reward: 133.000, steps: 133\n",
            "Episode 11: reward: 200.000, steps: 200\n",
            "Episode 12: reward: 200.000, steps: 200\n",
            "Episode 13: reward: 200.000, steps: 200\n",
            "Episode 14: reward: 200.000, steps: 200\n",
            "Episode 15: reward: 200.000, steps: 200\n"
          ]
        }
      ],
      "source": [
        "_ = dqn.test(env, nb_episodes=15, visualize=True)"
      ]
    },
    {
      "cell_type": "code",
      "execution_count": 24,
      "metadata": {},
      "outputs": [
        {
          "ename": "",
          "evalue": "",
          "output_type": "error",
          "traceback": [
            "\u001b[1;31mThe Kernel crashed while executing code in the the current cell or a previous cell. Please review the code in the cell(s) to identify a possible cause of the failure. Click <a href='https://aka.ms/vscodeJupyterKernelCrash'>here</a> for more info. View Jupyter <a href='command:jupyter.viewOutput'>log</a> for further details."
          ]
        }
      ],
      "source": [
        "dqn.save_weights('dqn_weights.h5f',overwrite=True)"
      ]
    }
  ],
  "metadata": {
    "colab": {
      "name": "DeepLearning.ipynb",
      "provenance": []
    },
    "kernelspec": {
      "display_name": "Python 3.9.13",
      "language": "python",
      "name": "python3"
    },
    "language_info": {
      "codemirror_mode": {
        "name": "ipython",
        "version": 3
      },
      "file_extension": ".py",
      "mimetype": "text/x-python",
      "name": "python",
      "nbconvert_exporter": "python",
      "pygments_lexer": "ipython3",
      "version": "3.9.13"
    },
    "vscode": {
      "interpreter": {
        "hash": "48b65cfd70bcd8a330f6f74b1bb972c7f5df1f8581b0e5867b1738114f53921c"
      }
    }
  },
  "nbformat": 4,
  "nbformat_minor": 0
}
